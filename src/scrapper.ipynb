{
 "cells": [
  {
   "cell_type": "code",
   "execution_count": 2,
   "metadata": {},
   "outputs": [],
   "source": [
    "import requests\n",
    "from bs4 import BeautifulSoup\n",
    "import json"
   ]
  },
  {
   "cell_type": "code",
   "execution_count": 3,
   "metadata": {},
   "outputs": [],
   "source": [
    "# URL for the TPCODL Website \n",
    "url = 'https://kavach.tpodisha.com/(S(k5jbomhuadjjihxbbzfl4lqj))/Reports/PSDCases?discom=CODL'"
   ]
  },
  {
   "cell_type": "code",
   "execution_count": 4,
   "metadata": {},
   "outputs": [],
   "source": [
    "# Fetch the data from the website \n",
    "try:\n",
    "    page = requests.get(url)\n",
    "except Exception as e:\n",
    "    print(\"Error getting the data\", e)"
   ]
  },
  {
   "cell_type": "code",
   "execution_count": null,
   "metadata": {},
   "outputs": [],
   "source": [
    "\n",
    "soup = BeautifulSoup(page.text,'html.parser')"
   ]
  },
  {
   "cell_type": "code",
   "execution_count": 63,
   "metadata": {},
   "outputs": [],
   "source": [
    "# Target the Suraksha Kavach Table\n",
    "suraksha_table = soup.find('table',{'id':\"MainContent_GV_SurakshaKavach\"})"
   ]
  },
  {
   "cell_type": "code",
   "execution_count": 62,
   "metadata": {},
   "outputs": [
    {
     "name": "stdout",
     "output_type": "stream",
     "text": [
      "Operation Complete!\n"
     ]
    }
   ],
   "source": [
    "# Check the table content\n",
    "if suraksha_table is None:\n",
    "    pass\n",
    "else:\n",
    "    table_rows = suraksha_table.find_all('tr') # type: ignore\n",
    "    \n",
    "    # Each td has a format of id=\"MainContent_GV_SurakshaKavach_div2_<row number>\"\n",
    "    \n",
    "    final_block =[]\n",
    "    heading_block=[]\n",
    "    # Check if div3 has a value of BCDD-II, BBSR and div4 has a value of CS PUR-2\n",
    "    for idx,tr in enumerate(table_rows):\n",
    "        # Get the heading separately in a array\n",
    "        \n",
    "        # find all the th\n",
    "        headings =tr.findAll('th',{\"class\":\"text-nowrap\"})\n",
    "        if headings is not None:\n",
    "            for heading in headings:\n",
    "                heading_block.append(heading.text)\n",
    "        # print(heading_block)\n",
    "        \n",
    "        # print(td)\n",
    "        td_division_field = tr.find(\"div\")\n",
    "        \n",
    "        if td_division_field is not None and \"div3\" in td_division_field['id']:\n",
    "            td_gss_field = td_division_field.find_next(\"div\")\n",
    "            if \"BCDD-II, BBSR\" in td_division_field.text and \"CS PUR-2\" in td_gss_field.text:\n",
    "                # Get all the field for the TR in the JSON format \n",
    "                all_div = tr.findAll('div')\n",
    "                temp_block={}\n",
    "                for idx,div in enumerate(all_div):\n",
    "                    temp_block[heading_block[idx]] = div.text\n",
    "                final_block.append(temp_block)\n",
    "                \n",
    "                    \n",
    "    with open('sample_data.json', 'w', encoding='utf-8') as f:\n",
    "            json.dump(final_block, f, ensure_ascii=False, indent=4)\n",
    "    \n",
    "print('Operation Complete!')\n",
    "\n",
    "\n",
    "            \n",
    "        \n",
    "        "
   ]
  },
  {
   "cell_type": "code",
   "execution_count": null,
   "metadata": {},
   "outputs": [],
   "source": []
  }
 ],
 "metadata": {
  "kernelspec": {
   "display_name": "tpcodl-scrapper",
   "language": "python",
   "name": "python3"
  },
  "language_info": {
   "codemirror_mode": {
    "name": "ipython",
    "version": 3
   },
   "file_extension": ".py",
   "mimetype": "text/x-python",
   "name": "python",
   "nbconvert_exporter": "python",
   "pygments_lexer": "ipython3",
   "version": "3.12.5"
  }
 },
 "nbformat": 4,
 "nbformat_minor": 2
}
